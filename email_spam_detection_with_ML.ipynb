{
 "cells": [
  {
   "cell_type": "markdown",
   "metadata": {
    "id": "ty-ppSBvUsDi"
   },
   "source": [
    "# **EMAIL SPAM DETECTION USING MACHINE LEARNING**"
   ]
  },
  {
   "cell_type": "markdown",
   "metadata": {
    "id": "OkOxrnCXT3un"
   },
   "source": [
    "**Download Dataset here:** [spam.csv](https://drive.google.com/file/d/1ctbKxUgsCpRxPeVO9cAlp6ywy0AOEM9d/view?usp=share_link)"
   ]
  },
  {
   "cell_type": "markdown",
   "metadata": {
    "id": "wdS1nHeAYJCH"
   },
   "source": [
    "![no-spam-gmail.webp](data:image/webp;base64,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)"
   ]
  },
  {
   "cell_type": "markdown",
   "metadata": {
    "id": "_GGQyY8BT3us"
   },
   "source": [
    "# Importing required libraries\n",
    "---"
   ]
  },
  {
   "cell_type": "code",
   "execution_count": 9,
   "metadata": {
    "execution": {
     "iopub.execute_input": "2023-03-01T15:36:14.083590Z",
     "iopub.status.busy": "2023-03-01T15:36:14.082874Z",
     "iopub.status.idle": "2023-03-01T15:36:14.089554Z",
     "shell.execute_reply": "2023-03-01T15:36:14.088233Z",
     "shell.execute_reply.started": "2023-03-01T15:36:14.083548Z"
    },
    "id": "WoWd6iByT3us"
   },
   "outputs": [],
   "source": [
    "import pandas as pd\n",
    "import re\n",
    "import nltk\n",
    "from nltk.corpus import stopwords\n",
    "from nltk.stem import PorterStemmer\n",
    "from sklearn.feature_extraction.text import CountVectorizer\n",
    "\n",
    "import seaborn as sns\n",
    "import matplotlib.pyplot as plt\n",
    "\n",
    "from tqdm.auto import tqdm\n",
    "import time"
   ]
  },
  {
   "cell_type": "markdown",
   "metadata": {
    "id": "fdfyUFAZT3uu"
   },
   "source": [
    "# Data Loading\n",
    "---"
   ]
  },
  {
   "cell_type": "code",
   "execution_count": 27,
   "metadata": {
    "execution": {
     "iopub.execute_input": "2023-03-01T15:38:07.153607Z",
     "iopub.status.busy": "2023-03-01T15:38:07.153034Z",
     "iopub.status.idle": "2023-03-01T15:38:07.186116Z",
     "shell.execute_reply": "2023-03-01T15:38:07.184897Z",
     "shell.execute_reply.started": "2023-03-01T15:38:07.153556Z"
    },
    "id": "X3ZJHc_WT3uu"
   },
   "outputs": [],
   "source": [
    "df = pd.read_csv('spam.csv', encoding='latin-1')"
   ]
  },
  {
   "cell_type": "code",
   "execution_count": 28,
   "metadata": {
    "colab": {
     "base_uri": "https://localhost:8080/",
     "height": 424
    },
    "execution": {
     "iopub.execute_input": "2023-03-01T15:38:09.272050Z",
     "iopub.status.busy": "2023-03-01T15:38:09.271321Z",
     "iopub.status.idle": "2023-03-01T15:38:09.305953Z",
     "shell.execute_reply": "2023-03-01T15:38:09.304835Z",
     "shell.execute_reply.started": "2023-03-01T15:38:09.272008Z"
    },
    "id": "JVQV49-tT3uu",
    "outputId": "aa4b2de6-dd6a-4bda-dc03-66c543bbc798"
   },
   "outputs": [
    {
     "data": {
      "text/html": [
       "<div>\n",
       "<style scoped>\n",
       "    .dataframe tbody tr th:only-of-type {\n",
       "        vertical-align: middle;\n",
       "    }\n",
       "\n",
       "    .dataframe tbody tr th {\n",
       "        vertical-align: top;\n",
       "    }\n",
       "\n",
       "    .dataframe thead th {\n",
       "        text-align: right;\n",
       "    }\n",
       "</style>\n",
       "<table border=\"1\" class=\"dataframe\">\n",
       "  <thead>\n",
       "    <tr style=\"text-align: right;\">\n",
       "      <th></th>\n",
       "      <th>v1</th>\n",
       "      <th>v2</th>\n",
       "      <th>Unnamed: 2</th>\n",
       "      <th>Unnamed: 3</th>\n",
       "      <th>Unnamed: 4</th>\n",
       "    </tr>\n",
       "  </thead>\n",
       "  <tbody>\n",
       "    <tr>\n",
       "      <th>0</th>\n",
       "      <td>ham</td>\n",
       "      <td>Go until jurong point, crazy.. Available only ...</td>\n",
       "      <td>NaN</td>\n",
       "      <td>NaN</td>\n",
       "      <td>NaN</td>\n",
       "    </tr>\n",
       "    <tr>\n",
       "      <th>1</th>\n",
       "      <td>ham</td>\n",
       "      <td>Ok lar... Joking wif u oni...</td>\n",
       "      <td>NaN</td>\n",
       "      <td>NaN</td>\n",
       "      <td>NaN</td>\n",
       "    </tr>\n",
       "    <tr>\n",
       "      <th>2</th>\n",
       "      <td>spam</td>\n",
       "      <td>Free entry in 2 a wkly comp to win FA Cup fina...</td>\n",
       "      <td>NaN</td>\n",
       "      <td>NaN</td>\n",
       "      <td>NaN</td>\n",
       "    </tr>\n",
       "    <tr>\n",
       "      <th>3</th>\n",
       "      <td>ham</td>\n",
       "      <td>U dun say so early hor... U c already then say...</td>\n",
       "      <td>NaN</td>\n",
       "      <td>NaN</td>\n",
       "      <td>NaN</td>\n",
       "    </tr>\n",
       "    <tr>\n",
       "      <th>4</th>\n",
       "      <td>ham</td>\n",
       "      <td>Nah I don't think he goes to usf, he lives aro...</td>\n",
       "      <td>NaN</td>\n",
       "      <td>NaN</td>\n",
       "      <td>NaN</td>\n",
       "    </tr>\n",
       "    <tr>\n",
       "      <th>...</th>\n",
       "      <td>...</td>\n",
       "      <td>...</td>\n",
       "      <td>...</td>\n",
       "      <td>...</td>\n",
       "      <td>...</td>\n",
       "    </tr>\n",
       "    <tr>\n",
       "      <th>5567</th>\n",
       "      <td>spam</td>\n",
       "      <td>This is the 2nd time we have tried 2 contact u...</td>\n",
       "      <td>NaN</td>\n",
       "      <td>NaN</td>\n",
       "      <td>NaN</td>\n",
       "    </tr>\n",
       "    <tr>\n",
       "      <th>5568</th>\n",
       "      <td>ham</td>\n",
       "      <td>Will Ì_ b going to esplanade fr home?</td>\n",
       "      <td>NaN</td>\n",
       "      <td>NaN</td>\n",
       "      <td>NaN</td>\n",
       "    </tr>\n",
       "    <tr>\n",
       "      <th>5569</th>\n",
       "      <td>ham</td>\n",
       "      <td>Pity, * was in mood for that. So...any other s...</td>\n",
       "      <td>NaN</td>\n",
       "      <td>NaN</td>\n",
       "      <td>NaN</td>\n",
       "    </tr>\n",
       "    <tr>\n",
       "      <th>5570</th>\n",
       "      <td>ham</td>\n",
       "      <td>The guy did some bitching but I acted like i'd...</td>\n",
       "      <td>NaN</td>\n",
       "      <td>NaN</td>\n",
       "      <td>NaN</td>\n",
       "    </tr>\n",
       "    <tr>\n",
       "      <th>5571</th>\n",
       "      <td>ham</td>\n",
       "      <td>Rofl. Its true to its name</td>\n",
       "      <td>NaN</td>\n",
       "      <td>NaN</td>\n",
       "      <td>NaN</td>\n",
       "    </tr>\n",
       "  </tbody>\n",
       "</table>\n",
       "<p>5572 rows × 5 columns</p>\n",
       "</div>"
      ],
      "text/plain": [
       "        v1                                                 v2 Unnamed: 2  \\\n",
       "0      ham  Go until jurong point, crazy.. Available only ...        NaN   \n",
       "1      ham                      Ok lar... Joking wif u oni...        NaN   \n",
       "2     spam  Free entry in 2 a wkly comp to win FA Cup fina...        NaN   \n",
       "3      ham  U dun say so early hor... U c already then say...        NaN   \n",
       "4      ham  Nah I don't think he goes to usf, he lives aro...        NaN   \n",
       "...    ...                                                ...        ...   \n",
       "5567  spam  This is the 2nd time we have tried 2 contact u...        NaN   \n",
       "5568   ham              Will Ì_ b going to esplanade fr home?        NaN   \n",
       "5569   ham  Pity, * was in mood for that. So...any other s...        NaN   \n",
       "5570   ham  The guy did some bitching but I acted like i'd...        NaN   \n",
       "5571   ham                         Rofl. Its true to its name        NaN   \n",
       "\n",
       "     Unnamed: 3 Unnamed: 4  \n",
       "0           NaN        NaN  \n",
       "1           NaN        NaN  \n",
       "2           NaN        NaN  \n",
       "3           NaN        NaN  \n",
       "4           NaN        NaN  \n",
       "...         ...        ...  \n",
       "5567        NaN        NaN  \n",
       "5568        NaN        NaN  \n",
       "5569        NaN        NaN  \n",
       "5570        NaN        NaN  \n",
       "5571        NaN        NaN  \n",
       "\n",
       "[5572 rows x 5 columns]"
      ]
     },
     "execution_count": 28,
     "metadata": {},
     "output_type": "execute_result"
    }
   ],
   "source": [
    "df"
   ]
  },
  {
   "cell_type": "code",
   "execution_count": 29,
   "metadata": {
    "execution": {
     "iopub.execute_input": "2023-03-01T15:39:04.156874Z",
     "iopub.status.busy": "2023-03-01T15:39:04.156420Z",
     "iopub.status.idle": "2023-03-01T15:39:04.166802Z",
     "shell.execute_reply": "2023-03-01T15:39:04.165051Z",
     "shell.execute_reply.started": "2023-03-01T15:39:04.156827Z"
    },
    "id": "XHPkh85VT3uv"
   },
   "outputs": [],
   "source": [
    "df.drop(['Unnamed: 2','Unnamed: 3', 'Unnamed: 4'], axis = 1, inplace = True)"
   ]
  },
  {
   "cell_type": "code",
   "execution_count": 30,
   "metadata": {
    "colab": {
     "base_uri": "https://localhost:8080/",
     "height": 206
    },
    "execution": {
     "iopub.execute_input": "2023-03-01T15:39:08.792113Z",
     "iopub.status.busy": "2023-03-01T15:39:08.791710Z",
     "iopub.status.idle": "2023-03-01T15:39:08.804307Z",
     "shell.execute_reply": "2023-03-01T15:39:08.802975Z",
     "shell.execute_reply.started": "2023-03-01T15:39:08.792076Z"
    },
    "id": "VOp1CnOyT3uw",
    "outputId": "969e969f-1c9f-4df7-c2ff-e00ea4d4562c"
   },
   "outputs": [
    {
     "data": {
      "text/html": [
       "<div>\n",
       "<style scoped>\n",
       "    .dataframe tbody tr th:only-of-type {\n",
       "        vertical-align: middle;\n",
       "    }\n",
       "\n",
       "    .dataframe tbody tr th {\n",
       "        vertical-align: top;\n",
       "    }\n",
       "\n",
       "    .dataframe thead th {\n",
       "        text-align: right;\n",
       "    }\n",
       "</style>\n",
       "<table border=\"1\" class=\"dataframe\">\n",
       "  <thead>\n",
       "    <tr style=\"text-align: right;\">\n",
       "      <th></th>\n",
       "      <th>v1</th>\n",
       "      <th>v2</th>\n",
       "    </tr>\n",
       "  </thead>\n",
       "  <tbody>\n",
       "    <tr>\n",
       "      <th>0</th>\n",
       "      <td>ham</td>\n",
       "      <td>Go until jurong point, crazy.. Available only ...</td>\n",
       "    </tr>\n",
       "    <tr>\n",
       "      <th>1</th>\n",
       "      <td>ham</td>\n",
       "      <td>Ok lar... Joking wif u oni...</td>\n",
       "    </tr>\n",
       "    <tr>\n",
       "      <th>2</th>\n",
       "      <td>spam</td>\n",
       "      <td>Free entry in 2 a wkly comp to win FA Cup fina...</td>\n",
       "    </tr>\n",
       "    <tr>\n",
       "      <th>3</th>\n",
       "      <td>ham</td>\n",
       "      <td>U dun say so early hor... U c already then say...</td>\n",
       "    </tr>\n",
       "    <tr>\n",
       "      <th>4</th>\n",
       "      <td>ham</td>\n",
       "      <td>Nah I don't think he goes to usf, he lives aro...</td>\n",
       "    </tr>\n",
       "  </tbody>\n",
       "</table>\n",
       "</div>"
      ],
      "text/plain": [
       "     v1                                                 v2\n",
       "0   ham  Go until jurong point, crazy.. Available only ...\n",
       "1   ham                      Ok lar... Joking wif u oni...\n",
       "2  spam  Free entry in 2 a wkly comp to win FA Cup fina...\n",
       "3   ham  U dun say so early hor... U c already then say...\n",
       "4   ham  Nah I don't think he goes to usf, he lives aro..."
      ]
     },
     "execution_count": 30,
     "metadata": {},
     "output_type": "execute_result"
    }
   ],
   "source": [
    "df.head()"
   ]
  },
  {
   "cell_type": "code",
   "execution_count": 31,
   "metadata": {
    "colab": {
     "base_uri": "https://localhost:8080/",
     "height": 206
    },
    "execution": {
     "iopub.execute_input": "2023-03-01T15:39:14.117067Z",
     "iopub.status.busy": "2023-03-01T15:39:14.116666Z",
     "iopub.status.idle": "2023-03-01T15:39:14.129717Z",
     "shell.execute_reply": "2023-03-01T15:39:14.128443Z",
     "shell.execute_reply.started": "2023-03-01T15:39:14.117032Z"
    },
    "id": "ojTvuqu6T3uw",
    "outputId": "15b3826f-75ec-440b-a742-89eb461eb540"
   },
   "outputs": [
    {
     "data": {
      "text/html": [
       "<div>\n",
       "<style scoped>\n",
       "    .dataframe tbody tr th:only-of-type {\n",
       "        vertical-align: middle;\n",
       "    }\n",
       "\n",
       "    .dataframe tbody tr th {\n",
       "        vertical-align: top;\n",
       "    }\n",
       "\n",
       "    .dataframe thead th {\n",
       "        text-align: right;\n",
       "    }\n",
       "</style>\n",
       "<table border=\"1\" class=\"dataframe\">\n",
       "  <thead>\n",
       "    <tr style=\"text-align: right;\">\n",
       "      <th></th>\n",
       "      <th>v1</th>\n",
       "      <th>v2</th>\n",
       "    </tr>\n",
       "  </thead>\n",
       "  <tbody>\n",
       "    <tr>\n",
       "      <th>5567</th>\n",
       "      <td>spam</td>\n",
       "      <td>This is the 2nd time we have tried 2 contact u...</td>\n",
       "    </tr>\n",
       "    <tr>\n",
       "      <th>5568</th>\n",
       "      <td>ham</td>\n",
       "      <td>Will Ì_ b going to esplanade fr home?</td>\n",
       "    </tr>\n",
       "    <tr>\n",
       "      <th>5569</th>\n",
       "      <td>ham</td>\n",
       "      <td>Pity, * was in mood for that. So...any other s...</td>\n",
       "    </tr>\n",
       "    <tr>\n",
       "      <th>5570</th>\n",
       "      <td>ham</td>\n",
       "      <td>The guy did some bitching but I acted like i'd...</td>\n",
       "    </tr>\n",
       "    <tr>\n",
       "      <th>5571</th>\n",
       "      <td>ham</td>\n",
       "      <td>Rofl. Its true to its name</td>\n",
       "    </tr>\n",
       "  </tbody>\n",
       "</table>\n",
       "</div>"
      ],
      "text/plain": [
       "        v1                                                 v2\n",
       "5567  spam  This is the 2nd time we have tried 2 contact u...\n",
       "5568   ham              Will Ì_ b going to esplanade fr home?\n",
       "5569   ham  Pity, * was in mood for that. So...any other s...\n",
       "5570   ham  The guy did some bitching but I acted like i'd...\n",
       "5571   ham                         Rofl. Its true to its name"
      ]
     },
     "execution_count": 31,
     "metadata": {},
     "output_type": "execute_result"
    }
   ],
   "source": [
    "df.tail()"
   ]
  },
  {
   "cell_type": "markdown",
   "metadata": {
    "id": "CDW5yuFRT3uw"
   },
   "source": [
    "# EDA\n",
    "---"
   ]
  },
  {
   "cell_type": "markdown",
   "metadata": {
    "id": "B-1qKkWNT3ux"
   },
   "source": [
    "# 1. Handling Null Values"
   ]
  },
  {
   "cell_type": "code",
   "execution_count": 32,
   "metadata": {
    "colab": {
     "base_uri": "https://localhost:8080/"
    },
    "execution": {
     "iopub.execute_input": "2023-03-01T15:39:33.871831Z",
     "iopub.status.busy": "2023-03-01T15:39:33.871427Z",
     "iopub.status.idle": "2023-03-01T15:39:33.881122Z",
     "shell.execute_reply": "2023-03-01T15:39:33.879890Z",
     "shell.execute_reply.started": "2023-03-01T15:39:33.871795Z"
    },
    "id": "C3eTSQfzT3ux",
    "outputId": "ebdd2a3d-dc6d-4ac7-f0f4-1e0553d020f6"
   },
   "outputs": [
    {
     "data": {
      "text/plain": [
       "v1    False\n",
       "v2    False\n",
       "dtype: bool"
      ]
     },
     "execution_count": 32,
     "metadata": {},
     "output_type": "execute_result"
    }
   ],
   "source": [
    "df.isna().any()"
   ]
  },
  {
   "cell_type": "code",
   "execution_count": 33,
   "metadata": {
    "colab": {
     "base_uri": "https://localhost:8080/"
    },
    "execution": {
     "iopub.execute_input": "2023-03-01T15:39:55.882620Z",
     "iopub.status.busy": "2023-03-01T15:39:55.882050Z",
     "iopub.status.idle": "2023-03-01T15:39:55.893706Z",
     "shell.execute_reply": "2023-03-01T15:39:55.892601Z",
     "shell.execute_reply.started": "2023-03-01T15:39:55.882563Z"
    },
    "id": "l5zalIP5T3ux",
    "outputId": "b7569f98-ce88-440f-855f-a61f6196bd61"
   },
   "outputs": [
    {
     "data": {
      "text/plain": [
       "v1    0\n",
       "v2    0\n",
       "dtype: int64"
      ]
     },
     "execution_count": 33,
     "metadata": {},
     "output_type": "execute_result"
    }
   ],
   "source": [
    "df.isna().sum()"
   ]
  },
  {
   "cell_type": "markdown",
   "metadata": {
    "id": "9aQm4aPzT3uy"
   },
   "source": [
    "# 2. Handling Duplicate Values"
   ]
  },
  {
   "cell_type": "code",
   "execution_count": 34,
   "metadata": {
    "colab": {
     "base_uri": "https://localhost:8080/"
    },
    "execution": {
     "iopub.execute_input": "2023-03-01T15:40:24.391991Z",
     "iopub.status.busy": "2023-03-01T15:40:24.391548Z",
     "iopub.status.idle": "2023-03-01T15:40:24.404657Z",
     "shell.execute_reply": "2023-03-01T15:40:24.403392Z",
     "shell.execute_reply.started": "2023-03-01T15:40:24.391954Z"
    },
    "id": "tI3zqVpyT3uy",
    "outputId": "b56edd60-dcc3-4a98-a5a6-9efd7420a996"
   },
   "outputs": [
    {
     "data": {
      "text/plain": [
       "5169"
      ]
     },
     "execution_count": 34,
     "metadata": {},
     "output_type": "execute_result"
    }
   ],
   "source": [
    "df['v2'].nunique()"
   ]
  },
  {
   "cell_type": "code",
   "execution_count": 35,
   "metadata": {
    "colab": {
     "base_uri": "https://localhost:8080/"
    },
    "execution": {
     "iopub.execute_input": "2023-03-01T15:40:32.191729Z",
     "iopub.status.busy": "2023-03-01T15:40:32.191234Z",
     "iopub.status.idle": "2023-03-01T15:40:32.199196Z",
     "shell.execute_reply": "2023-03-01T15:40:32.198258Z",
     "shell.execute_reply.started": "2023-03-01T15:40:32.191688Z"
    },
    "id": "MxYdqe2ZT3uy",
    "outputId": "689267a8-6def-4b76-ba15-ddf68f8069b4"
   },
   "outputs": [
    {
     "data": {
      "text/plain": [
       "(5572, 2)"
      ]
     },
     "execution_count": 35,
     "metadata": {},
     "output_type": "execute_result"
    }
   ],
   "source": [
    "df.shape"
   ]
  },
  {
   "cell_type": "code",
   "execution_count": 36,
   "metadata": {
    "execution": {
     "iopub.execute_input": "2023-03-01T15:41:20.862195Z",
     "iopub.status.busy": "2023-03-01T15:41:20.861793Z",
     "iopub.status.idle": "2023-03-01T15:41:20.868458Z",
     "shell.execute_reply": "2023-03-01T15:41:20.866959Z",
     "shell.execute_reply.started": "2023-03-01T15:41:20.862159Z"
    },
    "id": "1sC3mRykT3uy"
   },
   "outputs": [],
   "source": [
    "df['v2'].drop_duplicates(inplace = True)"
   ]
  },
  {
   "cell_type": "code",
   "execution_count": 37,
   "metadata": {
    "colab": {
     "base_uri": "https://localhost:8080/"
    },
    "execution": {
     "iopub.execute_input": "2023-03-01T15:41:22.897194Z",
     "iopub.status.busy": "2023-03-01T15:41:22.896491Z",
     "iopub.status.idle": "2023-03-01T15:41:22.903942Z",
     "shell.execute_reply": "2023-03-01T15:41:22.903013Z",
     "shell.execute_reply.started": "2023-03-01T15:41:22.897144Z"
    },
    "id": "4C1ykwbXT3uz",
    "outputId": "af32ded6-ff25-4af2-a4c4-7062872d9c1e"
   },
   "outputs": [
    {
     "data": {
      "text/plain": [
       "(5572, 2)"
      ]
     },
     "execution_count": 37,
     "metadata": {},
     "output_type": "execute_result"
    }
   ],
   "source": [
    "df.shape"
   ]
  },
  {
   "cell_type": "code",
   "execution_count": 38,
   "metadata": {
    "colab": {
     "base_uri": "https://localhost:8080/",
     "height": 424
    },
    "execution": {
     "iopub.execute_input": "2023-03-01T15:41:29.957770Z",
     "iopub.status.busy": "2023-03-01T15:41:29.957054Z",
     "iopub.status.idle": "2023-03-01T15:41:29.970648Z",
     "shell.execute_reply": "2023-03-01T15:41:29.969421Z",
     "shell.execute_reply.started": "2023-03-01T15:41:29.957726Z"
    },
    "id": "NQciVhg5T3uz",
    "outputId": "6a906037-f201-43c3-ad16-6b7ef153db95"
   },
   "outputs": [
    {
     "data": {
      "text/html": [
       "<div>\n",
       "<style scoped>\n",
       "    .dataframe tbody tr th:only-of-type {\n",
       "        vertical-align: middle;\n",
       "    }\n",
       "\n",
       "    .dataframe tbody tr th {\n",
       "        vertical-align: top;\n",
       "    }\n",
       "\n",
       "    .dataframe thead th {\n",
       "        text-align: right;\n",
       "    }\n",
       "</style>\n",
       "<table border=\"1\" class=\"dataframe\">\n",
       "  <thead>\n",
       "    <tr style=\"text-align: right;\">\n",
       "      <th></th>\n",
       "      <th>v1</th>\n",
       "      <th>v2</th>\n",
       "    </tr>\n",
       "  </thead>\n",
       "  <tbody>\n",
       "    <tr>\n",
       "      <th>0</th>\n",
       "      <td>ham</td>\n",
       "      <td>Go until jurong point, crazy.. Available only ...</td>\n",
       "    </tr>\n",
       "    <tr>\n",
       "      <th>1</th>\n",
       "      <td>ham</td>\n",
       "      <td>Ok lar... Joking wif u oni...</td>\n",
       "    </tr>\n",
       "    <tr>\n",
       "      <th>2</th>\n",
       "      <td>spam</td>\n",
       "      <td>Free entry in 2 a wkly comp to win FA Cup fina...</td>\n",
       "    </tr>\n",
       "    <tr>\n",
       "      <th>3</th>\n",
       "      <td>ham</td>\n",
       "      <td>U dun say so early hor... U c already then say...</td>\n",
       "    </tr>\n",
       "    <tr>\n",
       "      <th>4</th>\n",
       "      <td>ham</td>\n",
       "      <td>Nah I don't think he goes to usf, he lives aro...</td>\n",
       "    </tr>\n",
       "    <tr>\n",
       "      <th>...</th>\n",
       "      <td>...</td>\n",
       "      <td>...</td>\n",
       "    </tr>\n",
       "    <tr>\n",
       "      <th>5567</th>\n",
       "      <td>spam</td>\n",
       "      <td>This is the 2nd time we have tried 2 contact u...</td>\n",
       "    </tr>\n",
       "    <tr>\n",
       "      <th>5568</th>\n",
       "      <td>ham</td>\n",
       "      <td>Will Ì_ b going to esplanade fr home?</td>\n",
       "    </tr>\n",
       "    <tr>\n",
       "      <th>5569</th>\n",
       "      <td>ham</td>\n",
       "      <td>Pity, * was in mood for that. So...any other s...</td>\n",
       "    </tr>\n",
       "    <tr>\n",
       "      <th>5570</th>\n",
       "      <td>ham</td>\n",
       "      <td>The guy did some bitching but I acted like i'd...</td>\n",
       "    </tr>\n",
       "    <tr>\n",
       "      <th>5571</th>\n",
       "      <td>ham</td>\n",
       "      <td>Rofl. Its true to its name</td>\n",
       "    </tr>\n",
       "  </tbody>\n",
       "</table>\n",
       "<p>5572 rows × 2 columns</p>\n",
       "</div>"
      ],
      "text/plain": [
       "        v1                                                 v2\n",
       "0      ham  Go until jurong point, crazy.. Available only ...\n",
       "1      ham                      Ok lar... Joking wif u oni...\n",
       "2     spam  Free entry in 2 a wkly comp to win FA Cup fina...\n",
       "3      ham  U dun say so early hor... U c already then say...\n",
       "4      ham  Nah I don't think he goes to usf, he lives aro...\n",
       "...    ...                                                ...\n",
       "5567  spam  This is the 2nd time we have tried 2 contact u...\n",
       "5568   ham              Will Ì_ b going to esplanade fr home?\n",
       "5569   ham  Pity, * was in mood for that. So...any other s...\n",
       "5570   ham  The guy did some bitching but I acted like i'd...\n",
       "5571   ham                         Rofl. Its true to its name\n",
       "\n",
       "[5572 rows x 2 columns]"
      ]
     },
     "execution_count": 38,
     "metadata": {},
     "output_type": "execute_result"
    }
   ],
   "source": [
    "df"
   ]
  },
  {
   "cell_type": "markdown",
   "metadata": {
    "id": "kSgvbONYT3uz"
   },
   "source": [
    "# 3. Class Distributions"
   ]
  },
  {
   "cell_type": "code",
   "execution_count": 39,
   "metadata": {
    "colab": {
     "base_uri": "https://localhost:8080/",
     "height": 496
    },
    "execution": {
     "iopub.execute_input": "2023-03-01T15:42:08.608259Z",
     "iopub.status.busy": "2023-03-01T15:42:08.607223Z",
     "iopub.status.idle": "2023-03-01T15:42:08.878984Z",
     "shell.execute_reply": "2023-03-01T15:42:08.877888Z",
     "shell.execute_reply.started": "2023-03-01T15:42:08.608207Z"
    },
    "id": "a0a0ubo_T3uz",
    "outputId": "ca3f9b28-6089-47aa-832e-78955f4579b0"
   },
   "outputs": [
    {
     "data": {
      "image/png": "[encoded data removed]",
      "text/plain": [
       "<Figure size 432x288 with 1 Axes>"
      ]
     },
     "metadata": {
      "needs_background": "light"
     },
     "output_type": "display_data"
    }
   ],
   "source": [
    "# Create a bar plot of the class distribution\n",
    "class_counts = df['v1'].value_counts()\n",
    "class_counts.plot(kind='bar')\n",
    "plt.title('Class Distribution of Spam/Ham')\n",
    "plt.xlabel('Spam/Ham')\n",
    "plt.ylabel('Number of Mails')\n",
    "plt.show()"
   ]
  },
  {
   "cell_type": "markdown",
   "metadata": {
    "id": "ewrMqxFsT3u0"
   },
   "source": [
    "# Word Count"
   ]
  },
  {
   "cell_type": "code",
   "execution_count": 40,
   "metadata": {
    "colab": {
     "base_uri": "https://localhost:8080/"
    },
    "execution": {
     "iopub.execute_input": "2023-03-01T15:42:47.198529Z",
     "iopub.status.busy": "2023-03-01T15:42:47.197759Z",
     "iopub.status.idle": "2023-03-01T15:42:47.203676Z",
     "shell.execute_reply": "2023-03-01T15:42:47.202427Z",
     "shell.execute_reply.started": "2023-03-01T15:42:47.198489Z"
    },
    "id": "PFNBo4IpT3u0",
    "outputId": "ebd686b6-0504-466e-a2e9-0842a254f89c"
   },
   "outputs": [
    {
     "name": "stderr",
     "output_type": "stream",
     "text": [
      "[nltk_data] Downloading package stopwords to\n",
      "[nltk_data]     C:\\Users\\Shahbaz\\AppData\\Roaming\\nltk_data...\n",
      "[nltk_data]   Unzipping corpora\\stopwords.zip.\n"
     ]
    }
   ],
   "source": [
    "from collections import Counter\n",
    "import re\n",
    "\n",
    "import nltk\n",
    "nltk.download('stopwords')\n",
    "from nltk.corpus import stopwords"
   ]
  },
  {
   "cell_type": "code",
   "execution_count": 41,
   "metadata": {
    "execution": {
     "iopub.execute_input": "2023-03-01T15:43:06.907641Z",
     "iopub.status.busy": "2023-03-01T15:43:06.907249Z",
     "iopub.status.idle": "2023-03-01T15:43:06.917023Z",
     "shell.execute_reply": "2023-03-01T15:43:06.915808Z",
     "shell.execute_reply.started": "2023-03-01T15:43:06.907606Z"
    },
    "id": "wa9ewpDzT3u0"
   },
   "outputs": [],
   "source": [
    "# Concatenate all tweet texts into a single string\n",
    "all_text = ' '.join(df['v2'].values)\n",
    "# Remove URLs, mentions, and hashtags from the text\n",
    "all_text = re.sub(r'http\\S+', '', all_text)\n",
    "all_text = re.sub(r'@\\S+', '', all_text)\n",
    "all_text = re.sub(r'#\\S+', '', all_text)"
   ]
  },
  {
   "cell_type": "code",
   "execution_count": 42,
   "metadata": {
    "execution": {
     "iopub.execute_input": "2023-03-01T15:43:20.657578Z",
     "iopub.status.busy": "2023-03-01T15:43:20.657147Z",
     "iopub.status.idle": "2023-03-01T15:43:20.673497Z",
     "shell.execute_reply": "2023-03-01T15:43:20.672125Z",
     "shell.execute_reply.started": "2023-03-01T15:43:20.657539Z"
    },
    "id": "bOsTHZXwT3u1"
   },
   "outputs": [],
   "source": [
    "# Split the text into individual words\n",
    "words = all_text.split()"
   ]
  },
  {
   "cell_type": "code",
   "execution_count": 43,
   "metadata": {
    "execution": {
     "iopub.execute_input": "2023-03-01T15:43:29.833741Z",
     "iopub.status.busy": "2023-03-01T15:43:29.832391Z",
     "iopub.status.idle": "2023-03-01T15:43:29.861277Z",
     "shell.execute_reply": "2023-03-01T15:43:29.859661Z",
     "shell.execute_reply.started": "2023-03-01T15:43:29.833682Z"
    },
    "id": "RhQEn3chT3u1"
   },
   "outputs": [],
   "source": [
    "# Remove stop words\n",
    "stop_words = set(stopwords.words('english'))\n",
    "words = [word for word in words if not word in stop_words]"
   ]
  },
  {
   "cell_type": "code",
   "execution_count": 44,
   "metadata": {
    "colab": {
     "base_uri": "https://localhost:8080/"
    },
    "execution": {
     "iopub.execute_input": "2023-03-01T15:43:46.273359Z",
     "iopub.status.busy": "2023-03-01T15:43:46.272600Z",
     "iopub.status.idle": "2023-03-01T15:43:46.298212Z",
     "shell.execute_reply": "2023-03-01T15:43:46.296717Z",
     "shell.execute_reply.started": "2023-03-01T15:43:46.273304Z"
    },
    "id": "xdfbprk3T3u1",
    "outputId": "04df7a98-da49-42c6-aecb-06365cc12d88"
   },
   "outputs": [
    {
     "data": {
      "text/plain": [
       "[('I', 1466),\n",
       " ('u', 692),\n",
       " ('2', 453),\n",
       " ('call', 376),\n",
       " ('get', 326),\n",
       " ('U', 299),\n",
       " ('ur', 293),\n",
       " (\"I'm\", 286),\n",
       " ('&lt;', 276),\n",
       " ('You', 263),\n",
       " ('4', 249),\n",
       " ('.', 235),\n",
       " ('go', 234),\n",
       " ('know', 224),\n",
       " ('like', 222),\n",
       " ('got', 204),\n",
       " ('come', 198),\n",
       " ('?', 187),\n",
       " ('...', 163),\n",
       " ('want', 157),\n",
       " ('Call', 155),\n",
       " ('time', 154),\n",
       " ('send', 150),\n",
       " ('going', 142),\n",
       " ('need', 141),\n",
       " ('n', 137),\n",
       " (\"I'll\", 137),\n",
       " ('How', 137),\n",
       " ('still', 134),\n",
       " ('If', 133),\n",
       " ('one', 132),\n",
       " ('But', 131),\n",
       " ('No', 126),\n",
       " ('text', 126),\n",
       " ('Just', 119),\n",
       " ('We', 119),\n",
       " ('So', 118),\n",
       " ('love', 114),\n",
       " ('good', 114),\n",
       " ('think', 113),\n",
       " ('Do', 113),\n",
       " ('see', 113),\n",
       " ('r', 113),\n",
       " ('back', 111),\n",
       " ('home', 107),\n",
       " ('&', 107),\n",
       " ('Ì_', 105),\n",
       " ('tell', 104),\n",
       " ('Your', 104),\n",
       " ('take', 101),\n",
       " ('What', 101),\n",
       " ('day', 101),\n",
       " ('free', 99),\n",
       " ('My', 99),\n",
       " ('And', 98),\n",
       " ('Ok', 97),\n",
       " ('me.', 97),\n",
       " ('dont', 97),\n",
       " ('The', 95),\n",
       " ('mobile', 94),\n",
       " ('A', 92),\n",
       " (\"i'm\", 91),\n",
       " ('FREE', 90),\n",
       " ('make', 90),\n",
       " ('new', 89),\n",
       " ('-', 88),\n",
       " ('phone', 88),\n",
       " ('later', 87),\n",
       " ('give', 87),\n",
       " ('now.', 86),\n",
       " ('much', 83),\n",
       " ('Have', 83),\n",
       " ('&amp;', 82),\n",
       " ('you.', 82),\n",
       " ('ask', 82),\n",
       " ('To', 79),\n",
       " ('Are', 78),\n",
       " ('This', 77),\n",
       " ('Hey', 76),\n",
       " ('great', 75),\n",
       " ('txt', 75),\n",
       " ('way', 75),\n",
       " ('reply', 75),\n",
       " ('Can', 74),\n",
       " ('claim', 73),\n",
       " ('say', 72),\n",
       " ('da', 72),\n",
       " ('Good', 72),\n",
       " ('e', 71),\n",
       " ('meet', 71),\n",
       " ('Its', 70),\n",
       " ('really', 69),\n",
       " ('number', 69),\n",
       " ('week', 68),\n",
       " ('Txt', 67),\n",
       " ('lor.', 67),\n",
       " ('contact', 67),\n",
       " ('would', 66),\n",
       " ('said', 65),\n",
       " ('1', 64)]"
      ]
     },
     "execution_count": 44,
     "metadata": {},
     "output_type": "execute_result"
    }
   ],
   "source": [
    "# Count the frequency of each word\n",
    "word_counts = Counter(words)\n",
    "top_words = word_counts.most_common(100)\n",
    "top_words"
   ]
  },
  {
   "cell_type": "code",
   "execution_count": 45,
   "metadata": {
    "colab": {
     "base_uri": "https://localhost:8080/",
     "height": 472
    },
    "execution": {
     "iopub.execute_input": "2023-03-01T15:44:03.337188Z",
     "iopub.status.busy": "2023-03-01T15:44:03.336420Z",
     "iopub.status.idle": "2023-03-01T15:44:03.578303Z",
     "shell.execute_reply": "2023-03-01T15:44:03.577440Z",
     "shell.execute_reply.started": "2023-03-01T15:44:03.337148Z"
    },
    "id": "EjtLEIKHT3u1",
    "outputId": "2f7ac17f-ac67-4dd8-e45e-0b72cb95cda4"
   },
   "outputs": [
    {
     "data": {
      "image/png": "[encoded data removed]",
      "text/plain": [
       "<Figure size 432x288 with 1 Axes>"
      ]
     },
     "metadata": {
      "needs_background": "light"
     },
     "output_type": "display_data"
    }
   ],
   "source": [
    "# Create a bar chart of the most common words\n",
    "top_words = word_counts.most_common(10) # Change the number to show more/less words\n",
    "x_values = [word[0] for word in top_words]\n",
    "y_values = [word[1] for word in top_words]\n",
    "plt.bar(x_values, y_values)\n",
    "plt.xlabel('Word')\n",
    "plt.ylabel('Frequency')\n",
    "plt.title('Most Commonly Used Words')\n",
    "plt.show()"
   ]
  },
  {
   "cell_type": "markdown",
   "metadata": {
    "id": "qbZMYANHT3u2"
   },
   "source": [
    "# Natural Language Processing\n",
    "---"
   ]
  },
  {
   "cell_type": "markdown",
   "metadata": {
    "id": "PrAZoUPPT3u2"
   },
   "source": [
    "# 1. Data Cleaning"
   ]
  },
  {
   "cell_type": "code",
   "execution_count": 46,
   "metadata": {
    "execution": {
     "iopub.execute_input": "2023-03-01T15:45:32.152635Z",
     "iopub.status.busy": "2023-03-01T15:45:32.151773Z",
     "iopub.status.idle": "2023-03-01T15:45:32.159040Z",
     "shell.execute_reply": "2023-03-01T15:45:32.158069Z",
     "shell.execute_reply.started": "2023-03-01T15:45:32.152592Z"
    },
    "id": "sJD3aEEPT3u2"
   },
   "outputs": [],
   "source": [
    "# Clean the data\n",
    "def clean_text(text):\n",
    "    # Remove HTML tags\n",
    "    text = re.sub('<.*?>', '', text)\n",
    "    # Remove non-alphabetic characters and convert to lowercase\n",
    "    text = re.sub('[^a-zA-Z]', ' ', text).lower()\n",
    "    # Tokenize the text\n",
    "    words = nltk.word_tokenize(text)\n",
    "    # Remove stopwords\n",
    "    words = [w for w in words if w not in stopwords.words('english')]\n",
    "    # Stem the words\n",
    "    stemmer = PorterStemmer()\n",
    "    words = [stemmer.stem(w) for w in words]\n",
    "    # Join the words back into a string\n",
    "    text = ' '.join(words)\n",
    "    return text"
   ]
  },
  {
   "cell_type": "code",
   "execution_count": 47,
   "metadata": {
    "colab": {
     "base_uri": "https://localhost:8080/"
    },
    "id": "OAUzxHxbc8dO",
    "outputId": "07f47589-e93b-4e3d-8736-d96057419466"
   },
   "outputs": [
    {
     "name": "stderr",
     "output_type": "stream",
     "text": [
      "[nltk_data] Downloading package punkt to\n",
      "[nltk_data]     C:\\Users\\Shahbaz\\AppData\\Roaming\\nltk_data...\n",
      "[nltk_data]   Unzipping tokenizers\\punkt.zip.\n"
     ]
    },
    {
     "data": {
      "text/plain": [
       "True"
      ]
     },
     "execution_count": 47,
     "metadata": {},
     "output_type": "execute_result"
    }
   ],
   "source": [
    "import nltk\n",
    "nltk.download('punkt')"
   ]
  },
  {
   "cell_type": "code",
   "execution_count": 48,
   "metadata": {
    "colab": {
     "base_uri": "https://localhost:8080/",
     "height": 84,
     "referenced_widgets": [
      "e51c24abdfd94b3a886d6a9db8ba5eff",
      "3cabb4018f754923a3d0745c9de0e147",
      "cb0872a666714c11b45c50bb46f81d04",
      "0fb11aa196a84bd2a02e8d9180401de4",
      "7fd4bde492f84594bc992fe2e48e5e61",
      "4a61ce8511de4643b3f43419969e5118",
      "13dfa7a230e04cbabbd8e5f61ce6c294",
      "f8607e2aae6d4861808ccf4081a78de2",
      "75624964cac74070995710bb032e77e8",
      "80dd900b3b8a4b07bb93d6d15aa2be02",
      "197fb58c257a47c3a83b5b2c2d24a3f5"
     ]
    },
    "execution": {
     "iopub.execute_input": "2023-03-01T15:45:48.292734Z",
     "iopub.status.busy": "2023-03-01T15:45:48.292328Z",
     "iopub.status.idle": "2023-03-01T15:46:03.536189Z",
     "shell.execute_reply": "2023-03-01T15:46:03.534963Z",
     "shell.execute_reply.started": "2023-03-01T15:45:48.292702Z"
    },
    "id": "-RW4X2BfT3u2",
    "outputId": "a72704ba-398c-4466-a387-44a004361f32"
   },
   "outputs": [
    {
     "data": {
      "application/vnd.jupyter.widget-view+json": {
       "model_id": "7736860d69aa479389ef06fb60500852",
       "version_major": 2,
       "version_minor": 0
      },
      "text/plain": [
       "  0%|          | 0/5572 [00:00<?, ?it/s]"
      ]
     },
     "metadata": {},
     "output_type": "display_data"
    },
    {
     "name": "stdout",
     "output_type": "stream",
     "text": [
      "CPU times: total: 19.9 s\n",
      "Wall time: 20.4 s\n"
     ]
    }
   ],
   "source": [
    "%%time\n",
    "\n",
    "tqdm.pandas()\n",
    "\n",
    "df['cleaned_text'] = df['v2'].progress_apply(clean_text)"
   ]
  },
  {
   "cell_type": "markdown",
   "metadata": {
    "id": "VTV_556uT3u3"
   },
   "source": [
    "# 2. Feature Extraction"
   ]
  },
  {
   "cell_type": "code",
   "execution_count": 49,
   "metadata": {
    "execution": {
     "iopub.execute_input": "2023-03-01T15:46:20.363808Z",
     "iopub.status.busy": "2023-03-01T15:46:20.362941Z",
     "iopub.status.idle": "2023-03-01T15:46:20.513875Z",
     "shell.execute_reply": "2023-03-01T15:46:20.512833Z",
     "shell.execute_reply.started": "2023-03-01T15:46:20.363764Z"
    },
    "id": "iZWovo2lT3u3"
   },
   "outputs": [],
   "source": [
    "# Create the Bag of Words model\n",
    "cv = CountVectorizer(max_features=5000)\n",
    "X = cv.fit_transform(df['cleaned_text']).toarray()\n",
    "y = df['v1']"
   ]
  },
  {
   "cell_type": "code",
   "execution_count": 50,
   "metadata": {
    "execution": {
     "iopub.execute_input": "2023-03-01T15:46:31.318017Z",
     "iopub.status.busy": "2023-03-01T15:46:31.317339Z",
     "iopub.status.idle": "2023-03-01T15:46:31.465379Z",
     "shell.execute_reply": "2023-03-01T15:46:31.463918Z",
     "shell.execute_reply.started": "2023-03-01T15:46:31.317976Z"
    },
    "id": "DGV_3ssYT3u3"
   },
   "outputs": [],
   "source": [
    "# Split the data into training and testing sets\n",
    "from sklearn.model_selection import train_test_split\n",
    "X_train, X_test, y_train, y_test = train_test_split(X, y, test_size=0.2, random_state=42)"
   ]
  },
  {
   "cell_type": "markdown",
   "metadata": {
    "id": "R-bAbKJyT3u3"
   },
   "source": [
    "# Classification Model\n",
    "---\n"
   ]
  },
  {
   "cell_type": "markdown",
   "metadata": {
    "id": "_ME6y8KET3u4"
   },
   "source": [
    "# 1. Logistic Regression Model"
   ]
  },
  {
   "cell_type": "code",
   "execution_count": 27,
   "metadata": {
    "execution": {
     "iopub.execute_input": "2023-03-01T15:47:14.203222Z",
     "iopub.status.busy": "2023-03-01T15:47:14.202752Z",
     "iopub.status.idle": "2023-03-01T15:47:14.209604Z",
     "shell.execute_reply": "2023-03-01T15:47:14.208388Z",
     "shell.execute_reply.started": "2023-03-01T15:47:14.203183Z"
    },
    "id": "j6TEC74DT3u4"
   },
   "outputs": [],
   "source": [
    "from sklearn.linear_model import LogisticRegression\n",
    "from sklearn.metrics import accuracy_score\n",
    "# train a Logistic Regression Model\n",
    "clf = LogisticRegression()"
   ]
  },
  {
   "cell_type": "code",
   "execution_count": 28,
   "metadata": {
    "colab": {
     "base_uri": "https://localhost:8080/",
     "height": 75
    },
    "execution": {
     "iopub.execute_input": "2023-03-01T15:47:16.256472Z",
     "iopub.status.busy": "2023-03-01T15:47:16.256005Z",
     "iopub.status.idle": "2023-03-01T15:47:17.056888Z",
     "shell.execute_reply": "2023-03-01T15:47:17.055220Z",
     "shell.execute_reply.started": "2023-03-01T15:47:16.256430Z"
    },
    "id": "6hVzaDGKT3u4",
    "outputId": "89b91644-eb47-4361-85ea-51ed9e940940"
   },
   "outputs": [
    {
     "data": {
      "text/html": [
       "<style>#sk-container-id-1 {color: black;background-color: white;}#sk-container-id-1 pre{padding: 0;}#sk-container-id-1 div.sk-toggleable {background-color: white;}#sk-container-id-1 label.sk-toggleable__label {cursor: pointer;display: block;width: 100%;margin-bottom: 0;padding: 0.3em;box-sizing: border-box;text-align: center;}#sk-container-id-1 label.sk-toggleable__label-arrow:before {content: \"▸\";float: left;margin-right: 0.25em;color: #696969;}#sk-container-id-1 label.sk-toggleable__label-arrow:hover:before {color: black;}#sk-container-id-1 div.sk-estimator:hover label.sk-toggleable__label-arrow:before {color: black;}#sk-container-id-1 div.sk-toggleable__content {max-height: 0;max-width: 0;overflow: hidden;text-align: left;background-color: #f0f8ff;}#sk-container-id-1 div.sk-toggleable__content pre {margin: 0.2em;color: black;border-radius: 0.25em;background-color: #f0f8ff;}#sk-container-id-1 input.sk-toggleable__control:checked~div.sk-toggleable__content {max-height: 200px;max-width: 100%;overflow: auto;}#sk-container-id-1 input.sk-toggleable__control:checked~label.sk-toggleable__label-arrow:before {content: \"▾\";}#sk-container-id-1 div.sk-estimator input.sk-toggleable__control:checked~label.sk-toggleable__label {background-color: #d4ebff;}#sk-container-id-1 div.sk-label input.sk-toggleable__control:checked~label.sk-toggleable__label {background-color: #d4ebff;}#sk-container-id-1 input.sk-hidden--visually {border: 0;clip: rect(1px 1px 1px 1px);clip: rect(1px, 1px, 1px, 1px);height: 1px;margin: -1px;overflow: hidden;padding: 0;position: absolute;width: 1px;}#sk-container-id-1 div.sk-estimator {font-family: monospace;background-color: #f0f8ff;border: 1px dotted black;border-radius: 0.25em;box-sizing: border-box;margin-bottom: 0.5em;}#sk-container-id-1 div.sk-estimator:hover {background-color: #d4ebff;}#sk-container-id-1 div.sk-parallel-item::after {content: \"\";width: 100%;border-bottom: 1px solid gray;flex-grow: 1;}#sk-container-id-1 div.sk-label:hover label.sk-toggleable__label {background-color: #d4ebff;}#sk-container-id-1 div.sk-serial::before {content: \"\";position: absolute;border-left: 1px solid gray;box-sizing: border-box;top: 0;bottom: 0;left: 50%;z-index: 0;}#sk-container-id-1 div.sk-serial {display: flex;flex-direction: column;align-items: center;background-color: white;padding-right: 0.2em;padding-left: 0.2em;position: relative;}#sk-container-id-1 div.sk-item {position: relative;z-index: 1;}#sk-container-id-1 div.sk-parallel {display: flex;align-items: stretch;justify-content: center;background-color: white;position: relative;}#sk-container-id-1 div.sk-item::before, #sk-container-id-1 div.sk-parallel-item::before {content: \"\";position: absolute;border-left: 1px solid gray;box-sizing: border-box;top: 0;bottom: 0;left: 50%;z-index: -1;}#sk-container-id-1 div.sk-parallel-item {display: flex;flex-direction: column;z-index: 1;position: relative;background-color: white;}#sk-container-id-1 div.sk-parallel-item:first-child::after {align-self: flex-end;width: 50%;}#sk-container-id-1 div.sk-parallel-item:last-child::after {align-self: flex-start;width: 50%;}#sk-container-id-1 div.sk-parallel-item:only-child::after {width: 0;}#sk-container-id-1 div.sk-dashed-wrapped {border: 1px dashed gray;margin: 0 0.4em 0.5em 0.4em;box-sizing: border-box;padding-bottom: 0.4em;background-color: white;}#sk-container-id-1 div.sk-label label {font-family: monospace;font-weight: bold;display: inline-block;line-height: 1.2em;}#sk-container-id-1 div.sk-label-container {text-align: center;}#sk-container-id-1 div.sk-container {/* jupyter's `normalize.less` sets `[hidden] { display: none; }` but bootstrap.min.css set `[hidden] { display: none !important; }` so we also need the `!important` here to be able to override the default hidden behavior on the sphinx rendered scikit-learn.org. See: https://github.com/scikit-learn/scikit-learn/issues/21755 */display: inline-block !important;position: relative;}#sk-container-id-1 div.sk-text-repr-fallback {display: none;}</style><div id=\"sk-container-id-1\" class=\"sk-top-container\"><div class=\"sk-text-repr-fallback\"><pre>LogisticRegression()</pre><b>In a Jupyter environment, please rerun this cell to show the HTML representation or trust the notebook. <br />On GitHub, the HTML representation is unable to render, please try loading this page with nbviewer.org.</b></div><div class=\"sk-container\" hidden><div class=\"sk-item\"><div class=\"sk-estimator sk-toggleable\"><input class=\"sk-toggleable__control sk-hidden--visually\" id=\"sk-estimator-id-1\" type=\"checkbox\" checked><label for=\"sk-estimator-id-1\" class=\"sk-toggleable__label sk-toggleable__label-arrow\">LogisticRegression</label><div class=\"sk-toggleable__content\"><pre>LogisticRegression()</pre></div></div></div></div></div>"
      ],
      "text/plain": [
       "LogisticRegression()"
      ]
     },
     "execution_count": 28,
     "metadata": {},
     "output_type": "execute_result"
    }
   ],
   "source": [
    "clf.fit(X_train, y_train)"
   ]
  },
  {
   "cell_type": "markdown",
   "metadata": {
    "id": "Thy_UQLAT3u4"
   },
   "source": [
    "# 2. Predictions"
   ]
  },
  {
   "cell_type": "code",
   "execution_count": 29,
   "metadata": {
    "execution": {
     "iopub.execute_input": "2023-03-01T15:47:23.763364Z",
     "iopub.status.busy": "2023-03-01T15:47:23.762938Z",
     "iopub.status.idle": "2023-03-01T15:47:23.802278Z",
     "shell.execute_reply": "2023-03-01T15:47:23.800565Z",
     "shell.execute_reply.started": "2023-03-01T15:47:23.763325Z"
    },
    "id": "EYRma67KT3u4"
   },
   "outputs": [],
   "source": [
    "# evaluate the classifier on the test set\n",
    "y_pred = clf.predict(X_test)"
   ]
  },
  {
   "cell_type": "code",
   "execution_count": 30,
   "metadata": {
    "colab": {
     "base_uri": "https://localhost:8080/"
    },
    "execution": {
     "iopub.execute_input": "2023-03-01T15:47:36.556435Z",
     "iopub.status.busy": "2023-03-01T15:47:36.556030Z",
     "iopub.status.idle": "2023-03-01T15:47:36.562500Z",
     "shell.execute_reply": "2023-03-01T15:47:36.561648Z",
     "shell.execute_reply.started": "2023-03-01T15:47:36.556399Z"
    },
    "id": "qwX4k6LST3u5",
    "outputId": "edd16342-c570-4e4d-e9fc-f978a8d5f64e"
   },
   "outputs": [
    {
     "data": {
      "text/plain": [
       "array(['ham', 'ham', 'ham', ..., 'ham', 'ham', 'ham'], dtype=object)"
      ]
     },
     "execution_count": 30,
     "metadata": {},
     "output_type": "execute_result"
    }
   ],
   "source": [
    "y_pred"
   ]
  },
  {
   "cell_type": "markdown",
   "metadata": {
    "id": "LhzoV3KOT3u5"
   },
   "source": [
    "# 3. Accuracy"
   ]
  },
  {
   "cell_type": "code",
   "execution_count": 31,
   "metadata": {
    "colab": {
     "base_uri": "https://localhost:8080/"
    },
    "execution": {
     "iopub.execute_input": "2023-03-01T15:47:39.651526Z",
     "iopub.status.busy": "2023-03-01T15:47:39.651103Z",
     "iopub.status.idle": "2023-03-01T15:47:39.660586Z",
     "shell.execute_reply": "2023-03-01T15:47:39.659138Z",
     "shell.execute_reply.started": "2023-03-01T15:47:39.651489Z"
    },
    "id": "ucpspUWKT3u5",
    "outputId": "5d123bc5-17e0-472e-8deb-cdc4c05c5a76"
   },
   "outputs": [
    {
     "name": "stdout",
     "output_type": "stream",
     "text": [
      "Accuracy: 0.9775784753363229\n"
     ]
    }
   ],
   "source": [
    "acc = accuracy_score(y_test, y_pred)\n",
    "print(\"Accuracy:\", acc)"
   ]
  },
  {
   "cell_type": "markdown",
   "metadata": {
    "id": "OFRSvodnT3u5"
   },
   "source": [
    "# 4. Confusion Matrix"
   ]
  },
  {
   "cell_type": "code",
   "execution_count": 32,
   "metadata": {
    "colab": {
     "base_uri": "https://localhost:8080/",
     "height": 447
    },
    "execution": {
     "iopub.execute_input": "2023-03-01T15:47:49.073421Z",
     "iopub.status.busy": "2023-03-01T15:47:49.072649Z",
     "iopub.status.idle": "2023-03-01T15:47:49.346610Z",
     "shell.execute_reply": "2023-03-01T15:47:49.345729Z",
     "shell.execute_reply.started": "2023-03-01T15:47:49.073363Z"
    },
    "id": "69S40mMjT3u5",
    "outputId": "740f9324-1dd0-4ff2-aa9b-da589608e707"
   },
   "outputs": [
    {
     "data": {
      "text/plain": [
       "<Axes: >"
      ]
     },
     "execution_count": 32,
     "metadata": {},
     "output_type": "execute_result"
    },
    {
     "data": {
      "image/png": "[encoded data removed]",
      "text/plain": [
       "<Figure size 640x480 with 2 Axes>"
      ]
     },
     "metadata": {},
     "output_type": "display_data"
    }
   ],
   "source": [
    "from sklearn.metrics import confusion_matrix\n",
    "cm = confusion_matrix(y_test, y_pred)\n",
    "\n",
    "import seaborn as sns\n",
    "sns.heatmap(cm, annot=True)"
   ]
  },
  {
   "cell_type": "code",
   "execution_count": 33,
   "metadata": {
    "colab": {
     "base_uri": "https://localhost:8080/"
    },
    "execution": {
     "iopub.execute_input": "2023-03-01T15:47:54.562837Z",
     "iopub.status.busy": "2023-03-01T15:47:54.561907Z",
     "iopub.status.idle": "2023-03-01T15:47:54.570303Z",
     "shell.execute_reply": "2023-03-01T15:47:54.569497Z",
     "shell.execute_reply.started": "2023-03-01T15:47:54.562782Z"
    },
    "id": "JN6QMkh9T3u6",
    "outputId": "ad6f37ea-af67-4a1d-8601-7df22b7fa53e"
   },
   "outputs": [
    {
     "data": {
      "text/plain": [
       "array([[965,   0],\n",
       "       [ 25, 125]])"
      ]
     },
     "execution_count": 33,
     "metadata": {},
     "output_type": "execute_result"
    }
   ],
   "source": [
    "cm"
   ]
  },
  {
   "cell_type": "markdown",
   "metadata": {
    "id": "Op3sr5kUT3u6"
   },
   "source": [
    "# 5. Classification Report"
   ]
  },
  {
   "cell_type": "code",
   "execution_count": 34,
   "metadata": {
    "colab": {
     "base_uri": "https://localhost:8080/"
    },
    "execution": {
     "iopub.execute_input": "2023-03-01T15:55:21.919327Z",
     "iopub.status.busy": "2023-03-01T15:55:21.918347Z",
     "iopub.status.idle": "2023-03-01T15:55:21.964737Z",
     "shell.execute_reply": "2023-03-01T15:55:21.963303Z",
     "shell.execute_reply.started": "2023-03-01T15:55:21.919280Z"
    },
    "id": "8-3ccGfxT3u6",
    "outputId": "83cdb856-595d-4385-81ff-f0b21416a1c4"
   },
   "outputs": [
    {
     "name": "stdout",
     "output_type": "stream",
     "text": [
      "              precision    recall  f1-score   support\n",
      "\n",
      "         ham       0.97      1.00      0.99       965\n",
      "        spam       1.00      0.83      0.91       150\n",
      "\n",
      "    accuracy                           0.98      1115\n",
      "   macro avg       0.99      0.92      0.95      1115\n",
      "weighted avg       0.98      0.98      0.98      1115\n",
      "\n"
     ]
    }
   ],
   "source": [
    "from sklearn.metrics import classification_report\n",
    "report = classification_report(y_test, y_pred)\n",
    "print(report)"
   ]
  }
 ],
 "metadata": {
  "colab": {
   "provenance": []
  },
  "kernelspec": {
   "display_name": "Python 3 (ipykernel)",
   "language": "python",
   "name": "python3"
  },
  "language_info": {
   "codemirror_mode": {
    "name": "ipython",
    "version": 3
   },
   "file_extension": ".py",
   "mimetype": "text/x-python",
   "name": "python",
   "nbconvert_exporter": "python",
   "pygments_lexer": "ipython3",
   "version": "3.9.12"
  },
  "widgets": {
   "application/vnd.jupyter.widget-state+json": {
    "0fb11aa196a84bd2a02e8d9180401de4": {
     "model_module": "@jupyter-widgets/controls",
     "model_module_version": "1.5.0",
     "model_name": "HTMLModel",
     "state": {
      "_dom_classes": [],
      "_model_module": "@jupyter-widgets/controls",
      "_model_module_version": "1.5.0",
      "_model_name": "HTMLModel",
      "_view_count": null,
      "_view_module": "@jupyter-widgets/controls",
      "_view_module_version": "1.5.0",
      "_view_name": "HTMLView",
      "description": "",
      "description_tooltip": null,
      "layout": "IPY_MODEL_80dd900b3b8a4b07bb93d6d15aa2be02",
      "placeholder": "​",
      "style": "IPY_MODEL_197fb58c257a47c3a83b5b2c2d24a3f5",
      "value": " 5572/5572 [00:12&lt;00:00, 531.19it/s]"
     }
    },
    "13dfa7a230e04cbabbd8e5f61ce6c294": {
     "model_module": "@jupyter-widgets/controls",
     "model_module_version": "1.5.0",
     "model_name": "DescriptionStyleModel",
     "state": {
      "_model_module": "@jupyter-widgets/controls",
      "_model_module_version": "1.5.0",
      "_model_name": "DescriptionStyleModel",
      "_view_count": null,
      "_view_module": "@jupyter-widgets/base",
      "_view_module_version": "1.2.0",
      "_view_name": "StyleView",
      "description_width": ""
     }
    },
    "197fb58c257a47c3a83b5b2c2d24a3f5": {
     "model_module": "@jupyter-widgets/controls",
     "model_module_version": "1.5.0",
     "model_name": "DescriptionStyleModel",
     "state": {
      "_model_module": "@jupyter-widgets/controls",
      "_model_module_version": "1.5.0",
      "_model_name": "DescriptionStyleModel",
      "_view_count": null,
      "_view_module": "@jupyter-widgets/base",
      "_view_module_version": "1.2.0",
      "_view_name": "StyleView",
      "description_width": ""
     }
    },
    "3cabb4018f754923a3d0745c9de0e147": {
     "model_module": "@jupyter-widgets/controls",
     "model_module_version": "1.5.0",
     "model_name": "HTMLModel",
     "state": {
      "_dom_classes": [],
      "_model_module": "@jupyter-widgets/controls",
      "_model_module_version": "1.5.0",
      "_model_name": "HTMLModel",
      "_view_count": null,
      "_view_module": "@jupyter-widgets/controls",
      "_view_module_version": "1.5.0",
      "_view_name": "HTMLView",
      "description": "",
      "description_tooltip": null,
      "layout": "IPY_MODEL_4a61ce8511de4643b3f43419969e5118",
      "placeholder": "​",
      "style": "IPY_MODEL_13dfa7a230e04cbabbd8e5f61ce6c294",
      "value": "100%"
     }
    },
    "4a61ce8511de4643b3f43419969e5118": {
     "model_module": "@jupyter-widgets/base",
     "model_module_version": "1.2.0",
     "model_name": "LayoutModel",
     "state": {
      "_model_module": "@jupyter-widgets/base",
      "_model_module_version": "1.2.0",
      "_model_name": "LayoutModel",
      "_view_count": null,
      "_view_module": "@jupyter-widgets/base",
      "_view_module_version": "1.2.0",
      "_view_name": "LayoutView",
      "align_content": null,
      "align_items": null,
      "align_self": null,
      "border": null,
      "bottom": null,
      "display": null,
      "flex": null,
      "flex_flow": null,
      "grid_area": null,
      "grid_auto_columns": null,
      "grid_auto_flow": null,
      "grid_auto_rows": null,
      "grid_column": null,
      "grid_gap": null,
      "grid_row": null,
      "grid_template_areas": null,
      "grid_template_columns": null,
      "grid_template_rows": null,
      "height": null,
      "justify_content": null,
      "justify_items": null,
      "left": null,
      "margin": null,
      "max_height": null,
      "max_width": null,
      "min_height": null,
      "min_width": null,
      "object_fit": null,
      "object_position": null,
      "order": null,
      "overflow": null,
      "overflow_x": null,
      "overflow_y": null,
      "padding": null,
      "right": null,
      "top": null,
      "visibility": null,
      "width": null
     }
    },
    "75624964cac74070995710bb032e77e8": {
     "model_module": "@jupyter-widgets/controls",
     "model_module_version": "1.5.0",
     "model_name": "ProgressStyleModel",
     "state": {
      "_model_module": "@jupyter-widgets/controls",
      "_model_module_version": "1.5.0",
      "_model_name": "ProgressStyleModel",
      "_view_count": null,
      "_view_module": "@jupyter-widgets/base",
      "_view_module_version": "1.2.0",
      "_view_name": "StyleView",
      "bar_color": null,
      "description_width": ""
     }
    },
    "7fd4bde492f84594bc992fe2e48e5e61": {
     "model_module": "@jupyter-widgets/base",
     "model_module_version": "1.2.0",
     "model_name": "LayoutModel",
     "state": {
      "_model_module": "@jupyter-widgets/base",
      "_model_module_version": "1.2.0",
      "_model_name": "LayoutModel",
      "_view_count": null,
      "_view_module": "@jupyter-widgets/base",
      "_view_module_version": "1.2.0",
      "_view_name": "LayoutView",
      "align_content": null,
      "align_items": null,
      "align_self": null,
      "border": null,
      "bottom": null,
      "display": null,
      "flex": null,
      "flex_flow": null,
      "grid_area": null,
      "grid_auto_columns": null,
      "grid_auto_flow": null,
      "grid_auto_rows": null,
      "grid_column": null,
      "grid_gap": null,
      "grid_row": null,
      "grid_template_areas": null,
      "grid_template_columns": null,
      "grid_template_rows": null,
      "height": null,
      "justify_content": null,
      "justify_items": null,
      "left": null,
      "margin": null,
      "max_height": null,
      "max_width": null,
      "min_height": null,
      "min_width": null,
      "object_fit": null,
      "object_position": null,
      "order": null,
      "overflow": null,
      "overflow_x": null,
      "overflow_y": null,
      "padding": null,
      "right": null,
      "top": null,
      "visibility": null,
      "width": null
     }
    },
    "80dd900b3b8a4b07bb93d6d15aa2be02": {
     "model_module": "@jupyter-widgets/base",
     "model_module_version": "1.2.0",
     "model_name": "LayoutModel",
     "state": {
      "_model_module": "@jupyter-widgets/base",
      "_model_module_version": "1.2.0",
      "_model_name": "LayoutModel",
      "_view_count": null,
      "_view_module": "@jupyter-widgets/base",
      "_view_module_version": "1.2.0",
      "_view_name": "LayoutView",
      "align_content": null,
      "align_items": null,
      "align_self": null,
      "border": null,
      "bottom": null,
      "display": null,
      "flex": null,
      "flex_flow": null,
      "grid_area": null,
      "grid_auto_columns": null,
      "grid_auto_flow": null,
      "grid_auto_rows": null,
      "grid_column": null,
      "grid_gap": null,
      "grid_row": null,
      "grid_template_areas": null,
      "grid_template_columns": null,
      "grid_template_rows": null,
      "height": null,
      "justify_content": null,
      "justify_items": null,
      "left": null,
      "margin": null,
      "max_height": null,
      "max_width": null,
      "min_height": null,
      "min_width": null,
      "object_fit": null,
      "object_position": null,
      "order": null,
      "overflow": null,
      "overflow_x": null,
      "overflow_y": null,
      "padding": null,
      "right": null,
      "top": null,
      "visibility": null,
      "width": null
     }
    },
    "cb0872a666714c11b45c50bb46f81d04": {
     "model_module": "@jupyter-widgets/controls",
     "model_module_version": "1.5.0",
     "model_name": "FloatProgressModel",
     "state": {
      "_dom_classes": [],
      "_model_module": "@jupyter-widgets/controls",
      "_model_module_version": "1.5.0",
      "_model_name": "FloatProgressModel",
      "_view_count": null,
      "_view_module": "@jupyter-widgets/controls",
      "_view_module_version": "1.5.0",
      "_view_name": "ProgressView",
      "bar_style": "success",
      "description": "",
      "description_tooltip": null,
      "layout": "IPY_MODEL_f8607e2aae6d4861808ccf4081a78de2",
      "max": 5572,
      "min": 0,
      "orientation": "horizontal",
      "style": "IPY_MODEL_75624964cac74070995710bb032e77e8",
      "value": 5572
     }
    },
    "e51c24abdfd94b3a886d6a9db8ba5eff": {
     "model_module": "@jupyter-widgets/controls",
     "model_module_version": "1.5.0",
     "model_name": "HBoxModel",
     "state": {
      "_dom_classes": [],
      "_model_module": "@jupyter-widgets/controls",
      "_model_module_version": "1.5.0",
      "_model_name": "HBoxModel",
      "_view_count": null,
      "_view_module": "@jupyter-widgets/controls",
      "_view_module_version": "1.5.0",
      "_view_name": "HBoxView",
      "box_style": "",
      "children": [
       "IPY_MODEL_3cabb4018f754923a3d0745c9de0e147",
       "IPY_MODEL_cb0872a666714c11b45c50bb46f81d04",
       "IPY_MODEL_0fb11aa196a84bd2a02e8d9180401de4"
      ],
      "layout": "IPY_MODEL_7fd4bde492f84594bc992fe2e48e5e61"
     }
    },
    "f8607e2aae6d4861808ccf4081a78de2": {
     "model_module": "@jupyter-widgets/base",
     "model_module_version": "1.2.0",
     "model_name": "LayoutModel",
     "state": {
      "_model_module": "@jupyter-widgets/base",
      "_model_module_version": "1.2.0",
      "_model_name": "LayoutModel",
      "_view_count": null,
      "_view_module": "@jupyter-widgets/base",
      "_view_module_version": "1.2.0",
      "_view_name": "LayoutView",
      "align_content": null,
      "align_items": null,
      "align_self": null,
      "border": null,
      "bottom": null,
      "display": null,
      "flex": null,
      "flex_flow": null,
      "grid_area": null,
      "grid_auto_columns": null,
      "grid_auto_flow": null,
      "grid_auto_rows": null,
      "grid_column": null,
      "grid_gap": null,
      "grid_row": null,
      "grid_template_areas": null,
      "grid_template_columns": null,
      "grid_template_rows": null,
      "height": null,
      "justify_content": null,
      "justify_items": null,
      "left": null,
      "margin": null,
      "max_height": null,
      "max_width": null,
      "min_height": null,
      "min_width": null,
      "object_fit": null,
      "object_position": null,
      "order": null,
      "overflow": null,
      "overflow_x": null,
      "overflow_y": null,
      "padding": null,
      "right": null,
      "top": null,
      "visibility": null,
      "width": null
     }
    }
   }
  }
 },
 "nbformat": 4,
 "nbformat_minor": 1
}
